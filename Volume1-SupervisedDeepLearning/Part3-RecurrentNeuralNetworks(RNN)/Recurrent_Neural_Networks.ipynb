{
  "nbformat": 4,
  "nbformat_minor": 0,
  "metadata": {
    "colab": {
      "provenance": []
    },
    "kernelspec": {
      "name": "python3",
      "display_name": "Python 3"
    },
    "language_info": {
      "name": "python"
    }
  },
  "cells": [
    {
      "cell_type": "markdown",
      "source": [
        "# Recurrent Neural Network"
      ],
      "metadata": {
        "id": "7Qg8eKkac2Vj"
      }
    },
    {
      "cell_type": "markdown",
      "source": [
        "### Importing the libraries"
      ],
      "metadata": {
        "id": "ViW-IYGXc-ML"
      }
    },
    {
      "cell_type": "code",
      "source": [
        "import numpy as np\n",
        "import matplotlib.pyplot as plt\n",
        "\n",
        "import pandas as pd"
      ],
      "metadata": {
        "id": "mT2vjK8IdQ_v"
      },
      "execution_count": 1,
      "outputs": []
    },
    {
      "cell_type": "markdown",
      "source": [
        "## Part 1 - data Preprocessing\n"
      ],
      "metadata": {
        "id": "gz-dqcGDdJo-"
      }
    },
    {
      "cell_type": "markdown",
      "source": [
        "### Importing the training set"
      ],
      "metadata": {
        "id": "7Sb1dqhQdZXx"
      }
    },
    {
      "cell_type": "code",
      "execution_count": 2,
      "metadata": {
        "id": "SrsXQ_JRcSHb"
      },
      "outputs": [],
      "source": [
        "dataset_train = pd.read_csv('Google_Stock_Price_Train.csv')\n",
        "training_set = dataset_train.iloc[:, 1:2].values"
      ]
    },
    {
      "cell_type": "markdown",
      "source": [
        "### Feature Scalling"
      ],
      "metadata": {
        "id": "29-vYJyWdntp"
      }
    },
    {
      "cell_type": "code",
      "source": [
        "from sklearn.preprocessing import MinMaxScaler\n",
        "\n",
        "sc = MinMaxScaler(feature_range = (0, 1))\n",
        "training_set_scaled = sc.fit_transform(training_set)"
      ],
      "metadata": {
        "id": "sL8kJ4AYdrdN"
      },
      "execution_count": 4,
      "outputs": []
    },
    {
      "cell_type": "markdown",
      "source": [
        "### Creating a data structure with 60 timesteps and 1 output"
      ],
      "metadata": {
        "id": "Obly5GJkedUs"
      }
    },
    {
      "cell_type": "code",
      "source": [
        "X_train = []\n",
        "y_train = []\n",
        "\n",
        "for i in range(60, 1258):\n",
        "\n",
        "  X_train.append(training_set_scaled[i-60:i, 0])\n",
        "  y_train.append(training_set_scaled[i,0])\n",
        "\n",
        "X_train, y_train = np.array(X_train), np.array(y_train)\n",
        "\n"
      ],
      "metadata": {
        "id": "4P6pdDcaeoKS"
      },
      "execution_count": 5,
      "outputs": []
    },
    {
      "cell_type": "markdown",
      "source": [
        "### Reshaping"
      ],
      "metadata": {
        "id": "Ih5VY8chhmd3"
      }
    },
    {
      "cell_type": "code",
      "source": [
        "X_train = np.reshape(X_train,\n",
        "                     (X_train.shape[0], X_train.shape[1], 1))"
      ],
      "metadata": {
        "id": "tANRuXiHhsKp"
      },
      "execution_count": 11,
      "outputs": []
    },
    {
      "cell_type": "markdown",
      "source": [
        "## Part 2 - Building the RNN"
      ],
      "metadata": {
        "id": "sz-0LcbfjbH9"
      }
    },
    {
      "cell_type": "markdown",
      "source": [
        "### Importing the Keras libraries and packages"
      ],
      "metadata": {
        "id": "BGtR8rHqjqhq"
      }
    },
    {
      "cell_type": "code",
      "source": [
        "from keras.models import Sequential\n",
        "from keras.layers import Dense\n",
        "\n",
        "from keras.layers import LSTM\n",
        "from keras.layers import Dropout"
      ],
      "metadata": {
        "id": "9pKlYfxwjgZE"
      },
      "execution_count": 14,
      "outputs": []
    },
    {
      "cell_type": "markdown",
      "source": [
        "### Initialising the RNN"
      ],
      "metadata": {
        "id": "HC0hQgw6kw0r"
      }
    },
    {
      "cell_type": "code",
      "source": [
        "regressor = Sequential()"
      ],
      "metadata": {
        "id": "4nmRhs1Tk2Gh"
      },
      "execution_count": 15,
      "outputs": []
    },
    {
      "cell_type": "markdown",
      "source": [
        "### Adding the first LSTM and some Dropout regularisation\n",
        "\n"
      ],
      "metadata": {
        "id": "hn59aRdLlSo1"
      }
    },
    {
      "cell_type": "code",
      "source": [
        "regressor.add(LSTM(units = 50, return_sequences= True,\n",
        "                   input_shape = (X_train.shape[1], 1)))\n",
        "\n",
        "regressor.add(Dropout(0.2))"
      ],
      "metadata": {
        "id": "p-cFTYEvljxl"
      },
      "execution_count": 16,
      "outputs": []
    },
    {
      "cell_type": "markdown",
      "source": [
        "### Adding a second LSTM and some Dropout regularisation\n"
      ],
      "metadata": {
        "id": "VM0GNwH6nftM"
      }
    },
    {
      "cell_type": "code",
      "source": [
        "regressor.add(LSTM(units = 50, return_sequences= True))\n",
        "regressor.add(Dropout(0.2))"
      ],
      "metadata": {
        "id": "J2eblJO7ns3V"
      },
      "execution_count": 17,
      "outputs": []
    },
    {
      "cell_type": "markdown",
      "source": [
        "### Adding a third LSTM and some Dropout regularisation\n"
      ],
      "metadata": {
        "id": "nYdEydJ8nlsx"
      }
    },
    {
      "cell_type": "code",
      "source": [
        "regressor.add(LSTM(units = 50, return_sequences= True))\n",
        "regressor.add(Dropout(0.2))"
      ],
      "metadata": {
        "id": "QM9pG0-on26r"
      },
      "execution_count": 18,
      "outputs": []
    },
    {
      "cell_type": "markdown",
      "source": [
        "### Adding a fourth LSTM and some Dropout regularisation\n"
      ],
      "metadata": {
        "id": "c8MIlPp3npdp"
      }
    },
    {
      "cell_type": "code",
      "source": [
        "regressor.add(LSTM(units = 50))\n",
        "regressor.add(Dropout(0.2))"
      ],
      "metadata": {
        "id": "W7BmuLNqn36N"
      },
      "execution_count": 19,
      "outputs": []
    },
    {
      "cell_type": "markdown",
      "source": [
        "### Adding the output layer"
      ],
      "metadata": {
        "id": "lIStA6sUoaHz"
      }
    },
    {
      "cell_type": "code",
      "source": [
        "regressor.add(Dense(units = 1))"
      ],
      "metadata": {
        "id": "-kOBcJpFoeG7"
      },
      "execution_count": 20,
      "outputs": []
    },
    {
      "cell_type": "markdown",
      "source": [
        "### Compiling the RNN"
      ],
      "metadata": {
        "id": "tOgIEWL5pItB"
      }
    },
    {
      "cell_type": "code",
      "source": [
        "regressor.compile(optimizer = 'adam', loss = 'mean_squared_error')"
      ],
      "metadata": {
        "id": "y5GTsYP1pONl"
      },
      "execution_count": 21,
      "outputs": []
    },
    {
      "cell_type": "markdown",
      "source": [
        "### Fitting the RNN to the Training set"
      ],
      "metadata": {
        "id": "sXB1si3Dz20-"
      }
    },
    {
      "cell_type": "code",
      "source": [
        "regressor.fit(X_train, y_train, epochs = 100, batch_size=32)"
      ],
      "metadata": {
        "colab": {
          "base_uri": "https://localhost:8080/"
        },
        "id": "0SWy2eyH0EIS",
        "outputId": "f9c8cac8-7ed0-437d-cf0d-f8d2bb483f3c"
      },
      "execution_count": 22,
      "outputs": [
        {
          "output_type": "stream",
          "name": "stdout",
          "text": [
            "Epoch 1/100\n",
            "38/38 [==============================] - 16s 173ms/step - loss: 0.0454\n",
            "Epoch 2/100\n",
            "38/38 [==============================] - 5s 134ms/step - loss: 0.0058\n",
            "Epoch 3/100\n",
            "38/38 [==============================] - 6s 172ms/step - loss: 0.0057\n",
            "Epoch 4/100\n",
            "38/38 [==============================] - 5s 137ms/step - loss: 0.0056\n",
            "Epoch 5/100\n",
            "38/38 [==============================] - 7s 196ms/step - loss: 0.0045\n",
            "Epoch 6/100\n",
            "38/38 [==============================] - 7s 173ms/step - loss: 0.0047\n",
            "Epoch 7/100\n",
            "38/38 [==============================] - 7s 172ms/step - loss: 0.0054\n",
            "Epoch 8/100\n",
            "38/38 [==============================] - 5s 139ms/step - loss: 0.0045\n",
            "Epoch 9/100\n",
            "38/38 [==============================] - 6s 166ms/step - loss: 0.0045\n",
            "Epoch 10/100\n",
            "38/38 [==============================] - 6s 144ms/step - loss: 0.0041\n",
            "Epoch 11/100\n",
            "38/38 [==============================] - 6s 153ms/step - loss: 0.0041\n",
            "Epoch 12/100\n",
            "38/38 [==============================] - 6s 163ms/step - loss: 0.0035\n",
            "Epoch 13/100\n",
            "38/38 [==============================] - 5s 141ms/step - loss: 0.0042\n",
            "Epoch 14/100\n",
            "38/38 [==============================] - 7s 174ms/step - loss: 0.0037\n",
            "Epoch 15/100\n",
            "38/38 [==============================] - 6s 146ms/step - loss: 0.0041\n",
            "Epoch 16/100\n",
            "38/38 [==============================] - 7s 179ms/step - loss: 0.0038\n",
            "Epoch 17/100\n",
            "38/38 [==============================] - 5s 140ms/step - loss: 0.0036\n",
            "Epoch 18/100\n",
            "38/38 [==============================] - 7s 176ms/step - loss: 0.0036\n",
            "Epoch 19/100\n",
            "38/38 [==============================] - 6s 145ms/step - loss: 0.0035\n",
            "Epoch 20/100\n",
            "38/38 [==============================] - 7s 179ms/step - loss: 0.0030\n",
            "Epoch 21/100\n",
            "38/38 [==============================] - 6s 147ms/step - loss: 0.0038\n",
            "Epoch 22/100\n",
            "38/38 [==============================] - 7s 174ms/step - loss: 0.0040\n",
            "Epoch 23/100\n",
            "38/38 [==============================] - 6s 146ms/step - loss: 0.0033\n",
            "Epoch 24/100\n",
            "38/38 [==============================] - 7s 192ms/step - loss: 0.0034\n",
            "Epoch 25/100\n",
            "38/38 [==============================] - 6s 146ms/step - loss: 0.0030\n",
            "Epoch 26/100\n",
            "38/38 [==============================] - 6s 168ms/step - loss: 0.0031\n",
            "Epoch 27/100\n",
            "38/38 [==============================] - 6s 151ms/step - loss: 0.0031\n",
            "Epoch 28/100\n",
            "38/38 [==============================] - 6s 151ms/step - loss: 0.0031\n",
            "Epoch 29/100\n",
            "38/38 [==============================] - 6s 162ms/step - loss: 0.0032\n",
            "Epoch 30/100\n",
            "38/38 [==============================] - 5s 143ms/step - loss: 0.0026\n",
            "Epoch 31/100\n",
            "38/38 [==============================] - 7s 181ms/step - loss: 0.0030\n",
            "Epoch 32/100\n",
            "38/38 [==============================] - 6s 145ms/step - loss: 0.0034\n",
            "Epoch 33/100\n",
            "38/38 [==============================] - 7s 179ms/step - loss: 0.0028\n",
            "Epoch 34/100\n",
            "38/38 [==============================] - 6s 147ms/step - loss: 0.0030\n",
            "Epoch 35/100\n",
            "38/38 [==============================] - 7s 179ms/step - loss: 0.0032\n",
            "Epoch 36/100\n",
            "38/38 [==============================] - 6s 166ms/step - loss: 0.0028\n",
            "Epoch 37/100\n",
            "38/38 [==============================] - 7s 184ms/step - loss: 0.0029\n",
            "Epoch 38/100\n",
            "38/38 [==============================] - 6s 145ms/step - loss: 0.0028\n",
            "Epoch 39/100\n",
            "38/38 [==============================] - 9s 232ms/step - loss: 0.0026\n",
            "Epoch 40/100\n",
            "38/38 [==============================] - 6s 149ms/step - loss: 0.0025\n",
            "Epoch 41/100\n",
            "38/38 [==============================] - 7s 178ms/step - loss: 0.0024\n",
            "Epoch 42/100\n",
            "38/38 [==============================] - 7s 171ms/step - loss: 0.0025\n",
            "Epoch 43/100\n",
            "38/38 [==============================] - 8s 220ms/step - loss: 0.0026\n",
            "Epoch 44/100\n",
            "38/38 [==============================] - 9s 233ms/step - loss: 0.0025\n",
            "Epoch 45/100\n",
            "38/38 [==============================] - 8s 198ms/step - loss: 0.0023\n",
            "Epoch 46/100\n",
            "38/38 [==============================] - 8s 212ms/step - loss: 0.0027\n",
            "Epoch 47/100\n",
            "38/38 [==============================] - 7s 176ms/step - loss: 0.0028\n",
            "Epoch 48/100\n",
            "38/38 [==============================] - 8s 220ms/step - loss: 0.0023\n",
            "Epoch 49/100\n",
            "38/38 [==============================] - 9s 226ms/step - loss: 0.0022\n",
            "Epoch 50/100\n",
            "38/38 [==============================] - 7s 191ms/step - loss: 0.0022\n",
            "Epoch 51/100\n",
            "38/38 [==============================] - 8s 206ms/step - loss: 0.0024\n",
            "Epoch 52/100\n",
            "38/38 [==============================] - 6s 150ms/step - loss: 0.0023\n",
            "Epoch 53/100\n",
            "38/38 [==============================] - 7s 183ms/step - loss: 0.0024\n",
            "Epoch 54/100\n",
            "38/38 [==============================] - 5s 144ms/step - loss: 0.0023\n",
            "Epoch 55/100\n",
            "38/38 [==============================] - 7s 177ms/step - loss: 0.0023\n",
            "Epoch 56/100\n",
            "38/38 [==============================] - 6s 167ms/step - loss: 0.0025\n",
            "Epoch 57/100\n",
            "38/38 [==============================] - 8s 200ms/step - loss: 0.0021\n",
            "Epoch 58/100\n",
            "38/38 [==============================] - 6s 155ms/step - loss: 0.0021\n",
            "Epoch 59/100\n",
            "38/38 [==============================] - 8s 202ms/step - loss: 0.0020\n",
            "Epoch 60/100\n",
            "38/38 [==============================] - 6s 151ms/step - loss: 0.0022\n",
            "Epoch 61/100\n",
            "38/38 [==============================] - 9s 243ms/step - loss: 0.0020\n",
            "Epoch 62/100\n",
            "38/38 [==============================] - 10s 260ms/step - loss: 0.0020\n",
            "Epoch 63/100\n",
            "38/38 [==============================] - 7s 188ms/step - loss: 0.0022\n",
            "Epoch 64/100\n",
            "38/38 [==============================] - 8s 212ms/step - loss: 0.0019\n",
            "Epoch 65/100\n",
            "38/38 [==============================] - 6s 146ms/step - loss: 0.0023\n",
            "Epoch 66/100\n",
            "38/38 [==============================] - 7s 183ms/step - loss: 0.0022\n",
            "Epoch 67/100\n",
            "38/38 [==============================] - 6s 145ms/step - loss: 0.0019\n",
            "Epoch 68/100\n",
            "38/38 [==============================] - 7s 180ms/step - loss: 0.0022\n",
            "Epoch 69/100\n",
            "38/38 [==============================] - 6s 150ms/step - loss: 0.0021\n",
            "Epoch 70/100\n",
            "38/38 [==============================] - 7s 180ms/step - loss: 0.0021\n",
            "Epoch 71/100\n",
            "38/38 [==============================] - 6s 145ms/step - loss: 0.0017\n",
            "Epoch 72/100\n",
            "38/38 [==============================] - 7s 176ms/step - loss: 0.0019\n",
            "Epoch 73/100\n",
            "38/38 [==============================] - 6s 148ms/step - loss: 0.0017\n",
            "Epoch 74/100\n",
            "38/38 [==============================] - 7s 182ms/step - loss: 0.0016\n",
            "Epoch 75/100\n",
            "38/38 [==============================] - 6s 148ms/step - loss: 0.0018\n",
            "Epoch 76/100\n",
            "38/38 [==============================] - 7s 182ms/step - loss: 0.0017\n",
            "Epoch 77/100\n",
            "38/38 [==============================] - 6s 147ms/step - loss: 0.0020\n",
            "Epoch 78/100\n",
            "38/38 [==============================] - 7s 194ms/step - loss: 0.0020\n",
            "Epoch 79/100\n",
            "38/38 [==============================] - 6s 148ms/step - loss: 0.0018\n",
            "Epoch 80/100\n",
            "38/38 [==============================] - 7s 182ms/step - loss: 0.0016\n",
            "Epoch 81/100\n",
            "38/38 [==============================] - 6s 146ms/step - loss: 0.0019\n",
            "Epoch 82/100\n",
            "38/38 [==============================] - 7s 172ms/step - loss: 0.0017\n",
            "Epoch 83/100\n",
            "38/38 [==============================] - 6s 146ms/step - loss: 0.0019\n",
            "Epoch 84/100\n",
            "38/38 [==============================] - 6s 167ms/step - loss: 0.0016\n",
            "Epoch 85/100\n",
            "38/38 [==============================] - 6s 158ms/step - loss: 0.0018\n",
            "Epoch 86/100\n",
            "38/38 [==============================] - 6s 147ms/step - loss: 0.0015\n",
            "Epoch 87/100\n",
            "38/38 [==============================] - 7s 177ms/step - loss: 0.0016\n",
            "Epoch 88/100\n",
            "38/38 [==============================] - 6s 148ms/step - loss: 0.0017\n",
            "Epoch 89/100\n",
            "38/38 [==============================] - 7s 182ms/step - loss: 0.0016\n",
            "Epoch 90/100\n",
            "38/38 [==============================] - 6s 147ms/step - loss: 0.0015\n",
            "Epoch 91/100\n",
            "38/38 [==============================] - 7s 191ms/step - loss: 0.0016\n",
            "Epoch 92/100\n",
            "38/38 [==============================] - 6s 149ms/step - loss: 0.0017\n",
            "Epoch 93/100\n",
            "38/38 [==============================] - 7s 186ms/step - loss: 0.0014\n",
            "Epoch 94/100\n",
            "38/38 [==============================] - 6s 151ms/step - loss: 0.0014\n",
            "Epoch 95/100\n",
            "38/38 [==============================] - 7s 182ms/step - loss: 0.0015\n",
            "Epoch 96/100\n",
            "38/38 [==============================] - 6s 150ms/step - loss: 0.0015\n",
            "Epoch 97/100\n",
            "38/38 [==============================] - 7s 180ms/step - loss: 0.0013\n",
            "Epoch 98/100\n",
            "38/38 [==============================] - 6s 153ms/step - loss: 0.0014\n",
            "Epoch 99/100\n",
            "38/38 [==============================] - 7s 178ms/step - loss: 0.0014\n",
            "Epoch 100/100\n",
            "38/38 [==============================] - 6s 152ms/step - loss: 0.0015\n"
          ]
        },
        {
          "output_type": "execute_result",
          "data": {
            "text/plain": [
              "<keras.callbacks.History at 0x7fd21c277790>"
            ]
          },
          "metadata": {},
          "execution_count": 22
        }
      ]
    },
    {
      "cell_type": "code",
      "source": [
        "regressor.save('my_model.h5') "
      ],
      "metadata": {
        "id": "zWpAkQO57yHT"
      },
      "execution_count": 25,
      "outputs": []
    },
    {
      "cell_type": "markdown",
      "source": [
        "## Part 3 - Making the predictions and visualising the results"
      ],
      "metadata": {
        "id": "l2WC-3YT4rnX"
      }
    },
    {
      "cell_type": "markdown",
      "source": [
        "### Getting the real stock price of 2017"
      ],
      "metadata": {
        "id": "MCV1_nLm41cj"
      }
    },
    {
      "cell_type": "code",
      "source": [
        "dataset_test = pd.read_csv('Google_Stock_Price_Test.csv')\n",
        "real_stock_price = dataset_test.iloc[:, 1:2].values"
      ],
      "metadata": {
        "id": "-I4GxEdb40tK"
      },
      "execution_count": 24,
      "outputs": []
    },
    {
      "cell_type": "markdown",
      "source": [
        "### Getting the prdicted stock price of 2017"
      ],
      "metadata": {
        "id": "gxJYVa9i5Fh2"
      }
    },
    {
      "cell_type": "code",
      "source": [
        "dataset_total = pd.concat((dataset_train['Open'], dataset_test['Open']), \n",
        "                         axis = 0)\n",
        "\n",
        "inputs = dataset_total[len(dataset_total) - len(dataset_test) - 60:].values\n",
        "inputs = inputs.reshape(-1, 1)\n",
        "\n",
        "inputs = sc.transform(inputs)\n",
        "\n",
        "X_test = []\n",
        "\n",
        "for i in range(60, 80):\n",
        "\n",
        "  X_test.append(inputs[i-60:i, 0])\n",
        "\n",
        "X_test = np.array(X_test)\n",
        "\n",
        "X_test = np.reshape(X_test,\n",
        "                     (X_test.shape[0], X_test.shape[1], 1))\n",
        "\n",
        "predicted_stock_price = regressor.predict(X_test)\n",
        "predicted_stock_price = sc.inverse_transform(predicted_stock_price)"
      ],
      "metadata": {
        "colab": {
          "base_uri": "https://localhost:8080/"
        },
        "id": "uCSvIe6S8NdK",
        "outputId": "bcebe892-0af4-437e-cd04-8399ed2a017e"
      },
      "execution_count": 27,
      "outputs": [
        {
          "output_type": "stream",
          "name": "stdout",
          "text": [
            "1/1 [==============================] - 2s 2s/step\n"
          ]
        }
      ]
    },
    {
      "cell_type": "markdown",
      "source": [
        "### Visualising the results"
      ],
      "metadata": {
        "id": "eo6sxX_d5PEc"
      }
    },
    {
      "cell_type": "code",
      "source": [
        "plt.plot(real_stock_price, color = 'red', label = 'Real Google Stock Prices')\n",
        "plt.plot(predicted_stock_price, color = 'blue', \n",
        "         label = 'Predicted Google Stock Prices')\n",
        "\n",
        "plt.title('Google stock Prediction')\n",
        "plt.xlabel('time')\n",
        "\n",
        "plt.ylabel('Google Stock Price')\n",
        "plt.legend()\n",
        "\n",
        "plt.show()"
      ],
      "metadata": {
        "colab": {
          "base_uri": "https://localhost:8080/",
          "height": 295
        },
        "id": "bqdHPhclT7XM",
        "outputId": "28f778b8-93f4-4f89-c63e-ff64256fb8f5"
      },
      "execution_count": 28,
      "outputs": [
        {
          "output_type": "display_data",
          "data": {
            "text/plain": [
              "<Figure size 432x288 with 1 Axes>"
            ],
            "image/png": "[encoded data removed]"
          },
          "metadata": {
            "needs_background": "light"
          }
        }
      ]
    }
  ]
}